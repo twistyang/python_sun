{
 "cells": [
  {
   "cell_type": "markdown",
   "metadata": {},
   "source": [
    "# Mean Normalization\n",
    "\n",
    "머신러닝 및 데이터 분석에서는 데이터 노멀라이징(정규화)을 합니다. \n",
    "정규화는 데이터의 범위를 0과 1로 변환하여 데이터 분포를 조정하는 방법입니다.\n",
    "예를 들어 여러개의 feature가 있는데 어떤거는 100 ~ 200사이의 값이고, 어떤거는 -10 ~ 10 사이의 값이고, 어떤거는 -100 ~ 300 사이의 값이라고 해보면, 이 값들을 분석하기 쉽지가 않습니다. 따라서 이런 불편을 줄이기 위해 범주를 일치시키는 작업을 normalization 이라 합니다. 보통은 0 ~ 1 사이의 값으로 범주를 일치시킵니다.\n",
    "\n"
   ]
  },
  {
   "cell_type": "code",
   "execution_count": 1,
   "metadata": {},
   "outputs": [],
   "source": [
    "# import NumPy  \n",
    "import numpy as np"
   ]
  },
  {
   "cell_type": "code",
   "execution_count": 2,
   "metadata": {},
   "outputs": [],
   "source": [
    "# 1000 x 20 ndarray 배열을, 0이상 5001미만(0 ~ 5000) 의 random integers 로 만드세요.\n",
    "\n",
    "X = np.random.randint(5, 5000, size=(1000,20))"
   ]
  },
  {
   "cell_type": "code",
   "execution_count": 4,
   "metadata": {},
   "outputs": [
    {
     "data": {
      "text/plain": [
       "(1000, 20)"
      ]
     },
     "execution_count": 4,
     "metadata": {},
     "output_type": "execute_result"
    }
   ],
   "source": [
    "# print the shape of X\n",
    "X.shape\n"
   ]
  },
  {
   "cell_type": "code",
   "execution_count": null,
   "metadata": {},
   "outputs": [],
   "source": [
    "X"
   ]
  },
  {
   "cell_type": "markdown",
   "metadata": {},
   "source": [
    "다음의 mean normalization 식을 이용해서 정규화 하세요.\n",
    "\n",
    "$\\mbox{Norm_Col}_i = \\frac{\\mbox{Col}_i - \\mu_i}{\\sigma_i}$\n",
    "\n",
    "평균과 표준편차를 이용하면, 위의 정규화 식을 사용할 수 있습니다.\n",
    "\n",
    "mean(), std()\n"
   ]
  },
  {
   "cell_type": "code",
   "execution_count": 5,
   "metadata": {},
   "outputs": [],
   "source": [
    "# 열을 고정하고 각 행에 대한 평균, 즉 모든 열별 평균값을 얻어온다.\n",
    "ave_cols =  X.mean(axis = 0) "
   ]
  },
  {
   "cell_type": "code",
   "execution_count": 6,
   "metadata": {},
   "outputs": [],
   "source": [
    "# 열을 고정하고 각 행에 대한 표준편차, 즉 모든 열별 표준편차값을 얻어온다.\n",
    "std_cols = X.std(axis = 0)"
   ]
  },
  {
   "cell_type": "markdown",
   "metadata": {},
   "source": [
    "각 벡터의 shape 을 확인하세요."
   ]
  },
  {
   "cell_type": "code",
   "execution_count": 8,
   "metadata": {},
   "outputs": [
    {
     "name": "stdout",
     "output_type": "stream",
     "text": [
      "(20,)\n",
      "(20,)\n"
     ]
    }
   ],
   "source": [
    "# Print the shape of ave_cols\n",
    "print(ave_cols.shape)\n",
    "# Print the shape of std_cols\n",
    "print(std_cols.shape )"
   ]
  },
  {
   "cell_type": "code",
   "execution_count": 9,
   "metadata": {},
   "outputs": [
    {
     "data": {
      "text/plain": [
       "array([2494.002, 2522.399, 2553.959, 2534.094, 2470.988, 2446.254,\n",
       "       2512.222, 2542.394, 2550.298, 2563.698, 2537.26 , 2550.022,\n",
       "       2432.869, 2498.848, 2540.971, 2486.191, 2463.912, 2547.604,\n",
       "       2503.372, 2555.209])"
      ]
     },
     "execution_count": 9,
     "metadata": {},
     "output_type": "execute_result"
    }
   ],
   "source": [
    "ave_cols"
   ]
  },
  {
   "cell_type": "code",
   "execution_count": 10,
   "metadata": {},
   "outputs": [
    {
     "data": {
      "text/plain": [
       "array([1455.14805982, 1447.01624103, 1486.91365093, 1436.74973923,\n",
       "       1450.20595429, 1382.09053303, 1465.58776834, 1447.85297346,\n",
       "       1439.23300796, 1432.64324059, 1401.51492764, 1403.57746759,\n",
       "       1437.06634706, 1453.99006767, 1447.02615186, 1461.96689994,\n",
       "       1422.66263684, 1488.88707939, 1445.93548736, 1446.60075049])"
      ]
     },
     "execution_count": 10,
     "metadata": {},
     "output_type": "execute_result"
    }
   ],
   "source": [
    "std_cols"
   ]
  },
  {
   "cell_type": "markdown",
   "metadata": {},
   "source": [
    "위 공식대로 노멀라이제이션 하세요."
   ]
  },
  {
   "cell_type": "code",
   "execution_count": 11,
   "metadata": {},
   "outputs": [],
   "source": [
    "# Mean normalize X\n",
    "X_norm =  ( X - ave_cols ) / std_cols"
   ]
  },
  {
   "cell_type": "code",
   "execution_count": 12,
   "metadata": {},
   "outputs": [
    {
     "data": {
      "text/plain": [
       "array([[ 1.70910306,  0.16972926, -0.19433475, ..., -1.41354172,\n",
       "         0.9486094 , -0.6520175 ],\n",
       "       [-1.44521514,  1.69079028,  1.05725104, ...,  1.25690929,\n",
       "         0.12699598, -1.10411183],\n",
       "       [ 0.24396005,  0.67076027, -0.6657811 , ...,  1.14877483,\n",
       "         0.73974808,  1.17364172],\n",
       "       ...,\n",
       "       [ 0.95660231, -1.54690662,  0.53536465, ...,  1.58870074,\n",
       "        -1.49548304,  0.78099711],\n",
       "       [-1.48782248,  0.23676376, -1.22869206, ...,  1.2334018 ,\n",
       "        -1.1662844 ,  0.41738607],\n",
       "       [-1.64519479, -0.48610304,  0.03634441, ...,  0.10974372,\n",
       "        -0.48160655,  1.41627951]])"
      ]
     },
     "execution_count": 12,
     "metadata": {},
     "output_type": "execute_result"
    }
   ],
   "source": [
    "X_norm"
   ]
  },
  {
   "cell_type": "markdown",
   "metadata": {},
   "source": [
    "제대로 수행했으면 아마 $X_{\\tiny{\\mbox{norm}}}$ 배열은 값들이 0 근처의 값들로 나올겁니다.아래를 통해 확인하세요."
   ]
  },
  {
   "cell_type": "code",
   "execution_count": 13,
   "metadata": {},
   "outputs": [
    {
     "name": "stdout",
     "output_type": "stream",
     "text": [
      "[[ 1.70910306  0.16972926 -0.19433475 ... -1.41354172  0.9486094\n",
      "  -0.6520175 ]\n",
      " [-1.44521514  1.69079028  1.05725104 ...  1.25690929  0.12699598\n",
      "  -1.10411183]\n",
      " [ 0.24396005  0.67076027 -0.6657811  ...  1.14877483  0.73974808\n",
      "   1.17364172]\n",
      " ...\n",
      " [ 0.95660231 -1.54690662  0.53536465 ...  1.58870074 -1.49548304\n",
      "   0.78099711]\n",
      " [-1.48782248  0.23676376 -1.22869206 ...  1.2334018  -1.1662844\n",
      "   0.41738607]\n",
      " [-1.64519479 -0.48610304  0.03634441 ...  0.10974372 -0.48160655\n",
      "   1.41627951]]\n"
     ]
    }
   ],
   "source": [
    "# X_norm 을 출력(프린트) 하세요.\n",
    "print(X_norm)\n"
   ]
  },
  {
   "cell_type": "code",
   "execution_count": 14,
   "metadata": {},
   "outputs": [
    {
     "data": {
      "text/plain": [
       "array([-1.71048024, -1.73695286, -1.70753628, -1.76028847, -1.69078605,\n",
       "       -1.7605605 , -1.70663406, -1.75252187, -1.76156188, -1.78599803,\n",
       "       -1.8060885 , -1.81110203, -1.68737442, -1.71379988, -1.75115771,\n",
       "       -1.69510746, -1.72627855, -1.70772118, -1.71886783, -1.75529357])"
      ]
     },
     "execution_count": 14,
     "metadata": {},
     "output_type": "execute_result"
    }
   ],
   "source": [
    "# 각 컬럼(열)별 minimum value 를 출력하세요.\n",
    "X_norm.min(axis = 0)"
   ]
  },
  {
   "cell_type": "code",
   "execution_count": 15,
   "metadata": {},
   "outputs": [
    {
     "data": {
      "text/plain": [
       "array([1.71597521, 1.71014045, 1.64370069, 1.71561263, 1.74320895,\n",
       "       1.84340023, 1.69132007, 1.69672339, 1.7006989 , 1.69916831,\n",
       "       1.75505801, 1.74196156, 1.78428157, 1.71813553, 1.69798521,\n",
       "       1.7174185 , 1.78052613, 1.64041722, 1.72526923, 1.68587705])"
      ]
     },
     "execution_count": 15,
     "metadata": {},
     "output_type": "execute_result"
    }
   ],
   "source": [
    "# 각 컬럼(열)별 maximum value 를 출력하세요.\n",
    "X_norm.max(axis= 0)"
   ]
  },
  {
   "cell_type": "code",
   "execution_count": 16,
   "metadata": {},
   "outputs": [
    {
     "data": {
      "text/plain": [
       "array([[4981, 2768, 2265, ...,  443, 3875, 1612],\n",
       "       [ 391, 4969, 4126, ..., 4419, 2687,  958],\n",
       "       [2849, 3493, 1564, ..., 4258, 3573, 4253],\n",
       "       ...,\n",
       "       [3886,  284, 3350, ..., 4913,  341, 3685],\n",
       "       [ 329, 2865,  727, ..., 4384,  817, 3159],\n",
       "       [ 100, 1819, 2608, ..., 2711, 1807, 4604]])"
      ]
     },
     "execution_count": 16,
     "metadata": {},
     "output_type": "execute_result"
    }
   ],
   "source": [
    "X"
   ]
  },
  {
   "cell_type": "code",
   "execution_count": null,
   "metadata": {},
   "outputs": [],
   "source": []
  }
 ],
 "metadata": {
  "kernelspec": {
   "display_name": "Python 3",
   "language": "python",
   "name": "python3"
  },
  "language_info": {
   "codemirror_mode": {
    "name": "ipython",
    "version": 3
   },
   "file_extension": ".py",
   "mimetype": "text/x-python",
   "name": "python",
   "nbconvert_exporter": "python",
   "pygments_lexer": "ipython3",
   "version": "3.7.1"
  }
 },
 "nbformat": 4,
 "nbformat_minor": 2
}
